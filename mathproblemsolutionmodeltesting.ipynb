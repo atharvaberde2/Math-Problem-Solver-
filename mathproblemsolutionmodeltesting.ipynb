{
 "cells": [
  {
   "cell_type": "code",
   "execution_count": 1,
   "id": "8bded10c-a530-4c58-bb02-7f9c86693208",
   "metadata": {},
   "outputs": [],
   "source": [
    "from huggingface_hub import notebook_login"
   ]
  },
  {
   "cell_type": "code",
   "execution_count": 2,
   "id": "74bf748a-1df8-4880-bc33-a325a4c00716",
   "metadata": {},
   "outputs": [],
   "source": [
    "#notebook_login()"
   ]
  },
  {
   "cell_type": "code",
   "execution_count": 3,
   "id": "3fe7e693-98a1-4644-b34e-2fe37dcd9ae7",
   "metadata": {},
   "outputs": [],
   "source": [
    "from transformers import   AutoModelForCausalLM, AutoTokenizer, AutoModelForSeq2SeqLM, GenerationConfig\n"
   ]
  },
  {
   "cell_type": "code",
   "execution_count": 2,
   "id": "ef92ba1e-4f3c-4dbc-b43b-d5527beacc01",
   "metadata": {},
   "outputs": [
    {
     "data": {
      "application/vnd.jupyter.widget-view+json": {
       "model_id": "b5f34c7e937d432d8e1a9ed1f7b547eb",
       "version_major": 2,
       "version_minor": 0
      },
      "text/plain": [
       "adapter_config.json:   0%|          | 0.00/734 [00:00<?, ?B/s]"
      ]
     },
     "metadata": {},
     "output_type": "display_data"
    },
    {
     "data": {
      "application/vnd.jupyter.widget-view+json": {
       "model_id": "e59f4f70140d47d88bb524c7eab7baab",
       "version_major": 2,
       "version_minor": 0
      },
      "text/plain": [
       "Loading checkpoint shards:   0%|          | 0/2 [00:00<?, ?it/s]"
      ]
     },
     "metadata": {},
     "output_type": "display_data"
    },
    {
     "name": "stderr",
     "output_type": "stream",
     "text": [
      "The installed version of bitsandbytes was compiled without GPU support. 8-bit optimizers, 8-bit multiplication, and GPU quantization are unavailable.\n"
     ]
    },
    {
     "data": {
      "application/vnd.jupyter.widget-view+json": {
       "model_id": "f10b9823faa84e30afd06d227b3a3e6a",
       "version_major": 2,
       "version_minor": 0
      },
      "text/plain": [
       "adapter_model.safetensors:   0%|          | 0.00/160M [00:00<?, ?B/s]"
      ]
     },
     "metadata": {},
     "output_type": "display_data"
    }
   ],
   "source": [
    "import torch\n",
    "model = AutoModelForCausalLM.from_pretrained('Atharva1244/resultsmath', torch_dtype=torch.bfloat16)"
   ]
  },
  {
   "cell_type": "code",
   "execution_count": 3,
   "id": "02a129c0-8d55-449e-b5d2-8f73c5049c57",
   "metadata": {},
   "outputs": [
    {
     "data": {
      "application/vnd.jupyter.widget-view+json": {
       "model_id": "08b2a9a2a5794a2caa5363e4044ab13a",
       "version_major": 2,
       "version_minor": 0
      },
      "text/plain": [
       "tokenizer_config.json:   0%|          | 0.00/1.09k [00:00<?, ?B/s]"
      ]
     },
     "metadata": {},
     "output_type": "display_data"
    },
    {
     "data": {
      "application/vnd.jupyter.widget-view+json": {
       "model_id": "48d3329b3f5f46eb830277a711550054",
       "version_major": 2,
       "version_minor": 0
      },
      "text/plain": [
       "tokenizer.model:   0%|          | 0.00/500k [00:00<?, ?B/s]"
      ]
     },
     "metadata": {},
     "output_type": "display_data"
    },
    {
     "data": {
      "application/vnd.jupyter.widget-view+json": {
       "model_id": "315a3ce516854c1093fd84a054347440",
       "version_major": 2,
       "version_minor": 0
      },
      "text/plain": [
       "tokenizer.json:   0%|          | 0.00/1.84M [00:00<?, ?B/s]"
      ]
     },
     "metadata": {},
     "output_type": "display_data"
    },
    {
     "data": {
      "application/vnd.jupyter.widget-view+json": {
       "model_id": "dfe31a1f038a49d1a9a0610e7c93eb94",
       "version_major": 2,
       "version_minor": 0
      },
      "text/plain": [
       "added_tokens.json:   0%|          | 0.00/21.0 [00:00<?, ?B/s]"
      ]
     },
     "metadata": {},
     "output_type": "display_data"
    },
    {
     "data": {
      "application/vnd.jupyter.widget-view+json": {
       "model_id": "58b4abebc01241818d39d8570d1574b1",
       "version_major": 2,
       "version_minor": 0
      },
      "text/plain": [
       "special_tokens_map.json:   0%|          | 0.00/434 [00:00<?, ?B/s]"
      ]
     },
     "metadata": {},
     "output_type": "display_data"
    }
   ],
   "source": [
    "tokenizer = AutoTokenizer.from_pretrained('Atharva1244/resultsmath')"
   ]
  },
  {
   "cell_type": "code",
   "execution_count": 4,
   "id": "e710d520-9ca9-405e-af2a-5f4b2d90b13c",
   "metadata": {},
   "outputs": [],
   "source": [
    "prompt = \"\"\" The numbers 1 to 50 are in a hat. If the probability of drawing a n even number is 25/50, what is the probability of NOT drawing an even number? Express this probability as a fraction.\n",
    "\n",
    " \"\"\""
   ]
  },
  {
   "cell_type": "code",
   "execution_count": 5,
   "id": "99f9e329-2912-423a-b7b6-9d1d83a739f7",
   "metadata": {},
   "outputs": [],
   "source": [
    "inputs = tokenizer(prompt, return_tensors = \"pt\")"
   ]
  },
  {
   "cell_type": "code",
   "execution_count": 6,
   "id": "b5d5c174-c4f7-474a-b7ec-b5bd0fc27557",
   "metadata": {},
   "outputs": [],
   "source": [
    "output = model.generate(**inputs, max_new_tokens = 500, temperature = 0.00001)"
   ]
  },
  {
   "cell_type": "code",
   "execution_count": 7,
   "id": "942a5613-96a0-49f3-bd36-af72fae65b42",
   "metadata": {},
   "outputs": [
    {
     "data": {
      "text/plain": [
       "\" The numbers 1 to 50 are in a hat. If the probability of drawing a n even number is 25/50, what is the probability of NOT drawing an even number? Express this probability as a fraction.\\n\\n  Solution:\\n\\nLet's use the concept of conditional probability to find the probability of NOT drawing an even number.\\n\\nThe probability of drawing an even number is 25/50, as given in the problem.\\n\\nSo, the probability of NOT drawing an even number can be found by subtracting the probability of drawing an even number from 1:\\n\\nProbability of NOT drawing an even number = 1 - (25/50) = 25/50\\n\\nTherefore, the probability of NOT drawing an even number is 25/50.\""
      ]
     },
     "execution_count": 7,
     "metadata": {},
     "output_type": "execute_result"
    }
   ],
   "source": [
    "tokenizer.decode(output[0], skip_special_tokens = True)"
   ]
  },
  {
   "cell_type": "code",
   "execution_count": null,
   "id": "ddfd7861-033d-4772-94ef-753b394680a0",
   "metadata": {},
   "outputs": [],
   "source": []
  },
  {
   "cell_type": "code",
   "execution_count": null,
   "id": "fcca7c8d-fa50-417c-a6f9-c60000c5dd14",
   "metadata": {},
   "outputs": [],
   "source": []
  }
 ],
 "metadata": {
  "kernelspec": {
   "display_name": "PyTorch GPU",
   "language": "python",
   "name": "pytorch-gpu"
  },
  "language_info": {
   "codemirror_mode": {
    "name": "ipython",
    "version": 3
   },
   "file_extension": ".py",
   "mimetype": "text/x-python",
   "name": "python",
   "nbconvert_exporter": "python",
   "pygments_lexer": "ipython3",
   "version": "3.9.18"
  }
 },
 "nbformat": 4,
 "nbformat_minor": 5
}
